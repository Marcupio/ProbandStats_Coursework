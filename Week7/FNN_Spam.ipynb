{
 "cells": [
  {
   "cell_type": "code",
   "execution_count": 8,
   "metadata": {},
   "outputs": [
    {
     "data": {
      "text/plain": [
       "\n",
       "   0    1 \n",
       "2788 1813 "
      ]
     },
     "metadata": {},
     "output_type": "display_data"
    },
    {
     "data": {
      "text/html": [
       "<style>\n",
       ".list-inline {list-style: none; margin:0; padding: 0}\n",
       ".list-inline>li {display: inline-block}\n",
       ".list-inline>li:not(:last-child)::after {content: \"\\00b7\"; padding: 0 .5ex}\n",
       "</style>\n",
       "<ol class=list-inline><li>'is_spam'</li><li>'ID_unit'</li><li>'Prob'</li><li>'Stratum'</li></ol>\n"
      ],
      "text/latex": [
       "\\begin{enumerate*}\n",
       "\\item 'is\\_spam'\n",
       "\\item 'ID\\_unit'\n",
       "\\item 'Prob'\n",
       "\\item 'Stratum'\n",
       "\\end{enumerate*}\n"
      ],
      "text/markdown": [
       "1. 'is_spam'\n",
       "2. 'ID_unit'\n",
       "3. 'Prob'\n",
       "4. 'Stratum'\n",
       "\n",
       "\n"
      ],
      "text/plain": [
       "[1] \"is_spam\" \"ID_unit\" \"Prob\"    \"Stratum\""
      ]
     },
     "metadata": {},
     "output_type": "display_data"
    },
    {
     "data": {
      "text/html": [
       "3220"
      ],
      "text/latex": [
       "3220"
      ],
      "text/markdown": [
       "3220"
      ],
      "text/plain": [
       "[1] 3220"
      ]
     },
     "metadata": {},
     "output_type": "display_data"
    },
    {
     "data": {
      "text/html": [
       "1381"
      ],
      "text/latex": [
       "1381"
      ],
      "text/markdown": [
       "1381"
      ],
      "text/plain": [
       "[1] 1381"
      ]
     },
     "metadata": {},
     "output_type": "display_data"
    },
    {
     "name": "stdout",
     "output_type": "stream",
     "text": [
      "# weights:  119\n",
      "initial  value 2179.391193 \n",
      "iter  10 value 2048.990155\n",
      "iter  20 value 1789.038956\n",
      "iter  30 value 1481.282179\n",
      "iter  40 value 1350.677971\n",
      "iter  50 value 1266.652012\n",
      "iter  60 value 1170.324094\n",
      "iter  70 value 1001.333068\n",
      "iter  80 value 772.669797\n",
      "iter  90 value 607.190273\n",
      "iter 100 value 559.221445\n",
      "iter 110 value 528.269545\n",
      "iter 120 value 453.573029\n",
      "iter 130 value 434.276473\n",
      "iter 140 value 425.736031\n",
      "iter 150 value 414.960227\n",
      "iter 160 value 412.782874\n",
      "iter 170 value 409.985822\n",
      "iter 180 value 408.227378\n",
      "iter 190 value 406.374684\n",
      "iter 200 value 403.325885\n",
      "iter 210 value 401.817595\n",
      "iter 220 value 399.502321\n",
      "iter 230 value 398.570438\n",
      "iter 240 value 397.374847\n",
      "iter 250 value 396.211712\n",
      "iter 260 value 394.999942\n",
      "iter 270 value 393.366930\n",
      "iter 280 value 391.043700\n",
      "iter 290 value 388.752847\n",
      "iter 300 value 387.690846\n",
      "iter 310 value 387.311139\n",
      "iter 320 value 386.710609\n",
      "iter 330 value 386.252731\n",
      "iter 340 value 386.024489\n",
      "iter 350 value 385.950444\n",
      "iter 360 value 385.936135\n",
      "iter 370 value 385.895995\n",
      "iter 380 value 385.849163\n",
      "iter 390 value 385.795448\n",
      "iter 400 value 385.704998\n",
      "iter 410 value 385.641407\n",
      "iter 420 value 385.553721\n",
      "iter 430 value 385.483997\n",
      "iter 440 value 385.360612\n",
      "iter 450 value 385.251712\n",
      "iter 460 value 385.200850\n",
      "iter 470 value 385.174485\n",
      "iter 480 value 385.118991\n",
      "iter 490 value 385.069033\n",
      "iter 500 value 385.022686\n",
      "iter 510 value 384.986607\n",
      "iter 520 value 384.946814\n",
      "iter 530 value 384.921489\n",
      "iter 540 value 384.907624\n",
      "iter 550 value 384.879528\n",
      "iter 560 value 384.853099\n",
      "iter 570 value 384.837512\n",
      "iter 580 value 384.825893\n",
      "final  value 384.817742 \n",
      "converged\n"
     ]
    },
    {
     "data": {
      "text/plain": [
       "      predicted\n",
       "actual    0    1\n",
       "     0 1907   44\n",
       "     1   41 1228"
      ]
     },
     "metadata": {},
     "output_type": "display_data"
    },
    {
     "data": {
      "text/plain": [
       "      predicted\n",
       "actual   0   1\n",
       "     0 792  45\n",
       "     1  45 499"
      ]
     },
     "metadata": {},
     "output_type": "display_data"
    }
   ],
   "source": [
    "#install.packages(\"devtools\")\n",
    "#require(devtools)\n",
    "#packageurl <- \"https://cran.r-project.org/src/contrib/Archive/nutshell/nutshell_1.01.tar.gz\"\n",
    "#install_url(packageurl)\n",
    "#install.packages(\"sampling\")\n",
    "\n",
    "library(nutshell)\n",
    "data(spambase)\n",
    "\n",
    "library(sampling)\n",
    "table(spambase$is_spam)\n",
    "spambase.strata <- strata(spambase,stratanames=c(\"is_spam\"),size=c(1269,1951),method=\"srswor\")\n",
    "names(spambase.strata)\n",
    "spambase.training <- spambase[rownames(spambase) %in% spambase.strata$ID_unit,]\n",
    "spambase.validation <- spambase[!(rownames(spambase) %in% spambase.strata$ID_unit),]\n",
    "nrow(spambase.training)\n",
    "nrow(spambase.validation)\n",
    "\n",
    "library(nnet)\n",
    "\n",
    "#your code start\n",
    "spam.nnet <- nnet(is_spam ~., data=spambase.training, size=2, decay=1.0e-5, maxit=1000)\n",
    "\n",
    "#your code end\n",
    "\n",
    "table(actual=spambase.training$is_spam, predicted=predict(spam.nnet, type=\"class\"))\n",
    "\n",
    "table(actual=spambase.validation$is_spam, predicted=predict(spam.nnet, newdata=spambase.validation,type=\"class\"))\n"
   ]
  },
  {
   "cell_type": "code",
   "execution_count": null,
   "metadata": {},
   "outputs": [],
   "source": []
  }
 ],
 "metadata": {
  "kernelspec": {
   "display_name": "R",
   "language": "R",
   "name": "ir"
  },
  "language_info": {
   "codemirror_mode": "r",
   "file_extension": ".r",
   "mimetype": "text/x-r-source",
   "name": "R",
   "pygments_lexer": "r",
   "version": "3.5.1"
  }
 },
 "nbformat": 4,
 "nbformat_minor": 4
}
