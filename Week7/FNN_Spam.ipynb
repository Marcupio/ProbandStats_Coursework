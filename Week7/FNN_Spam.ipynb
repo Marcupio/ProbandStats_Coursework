{
 "cells": [
  {
   "cell_type": "code",
   "execution_count": 6,
   "metadata": {},
   "outputs": [
    {
     "data": {
      "text/plain": [
       "\n",
       "   0    1 \n",
       "2788 1813 "
      ]
     },
     "metadata": {},
     "output_type": "display_data"
    },
    {
     "data": {
      "text/html": [
       "<style>\n",
       ".list-inline {list-style: none; margin:0; padding: 0}\n",
       ".list-inline>li {display: inline-block}\n",
       ".list-inline>li:not(:last-child)::after {content: \"\\00b7\"; padding: 0 .5ex}\n",
       "</style>\n",
       "<ol class=list-inline><li>'is_spam'</li><li>'ID_unit'</li><li>'Prob'</li><li>'Stratum'</li></ol>\n"
      ],
      "text/latex": [
       "\\begin{enumerate*}\n",
       "\\item 'is\\_spam'\n",
       "\\item 'ID\\_unit'\n",
       "\\item 'Prob'\n",
       "\\item 'Stratum'\n",
       "\\end{enumerate*}\n"
      ],
      "text/markdown": [
       "1. 'is_spam'\n",
       "2. 'ID_unit'\n",
       "3. 'Prob'\n",
       "4. 'Stratum'\n",
       "\n",
       "\n"
      ],
      "text/plain": [
       "[1] \"is_spam\" \"ID_unit\" \"Prob\"    \"Stratum\""
      ]
     },
     "metadata": {},
     "output_type": "display_data"
    },
    {
     "data": {
      "text/html": [
       "3220"
      ],
      "text/latex": [
       "3220"
      ],
      "text/markdown": [
       "3220"
      ],
      "text/plain": [
       "[1] 3220"
      ]
     },
     "metadata": {},
     "output_type": "display_data"
    },
    {
     "data": {
      "text/html": [
       "1381"
      ],
      "text/latex": [
       "1381"
      ],
      "text/markdown": [
       "1381"
      ],
      "text/plain": [
       "[1] 1381"
      ]
     },
     "metadata": {},
     "output_type": "display_data"
    },
    {
     "name": "stdout",
     "output_type": "stream",
     "text": [
      "# weights:  119\n",
      "initial  value 2207.807024 \n",
      "iter  10 value 1959.277812\n",
      "iter  20 value 1611.013135\n",
      "iter  30 value 1490.320902\n",
      "iter  40 value 1039.460536\n",
      "iter  50 value 774.103279\n",
      "iter  60 value 742.810648\n",
      "iter  70 value 722.905237\n",
      "iter  80 value 722.213033\n",
      "iter  90 value 669.967095\n",
      "iter 100 value 605.592748\n",
      "final  value 605.592748 \n",
      "stopped after 100 iterations\n"
     ]
    },
    {
     "data": {
      "text/plain": [
       "      predicted\n",
       "actual    0    1\n",
       "     0 1884   67\n",
       "     1  127 1142"
      ]
     },
     "metadata": {},
     "output_type": "display_data"
    },
    {
     "data": {
      "text/plain": [
       "      predicted\n",
       "actual   0   1\n",
       "     0 796  41\n",
       "     1  42 502"
      ]
     },
     "metadata": {},
     "output_type": "display_data"
    }
   ],
   "source": [
    "#install.packages(\"devtools\")\n",
    "#require(devtools)\n",
    "#packageurl <- \"https://cran.r-project.org/src/contrib/Archive/nutshell/nutshell_1.01.tar.gz\"\n",
    "#install_url(packageurl)\n",
    "#install.packages(\"sampling\")\n",
    "\n",
    "library(nutshell)\n",
    "data(spambase)\n",
    "\n",
    "library(sampling)\n",
    "table(spambase$is_spam)\n",
    "spambase.strata <- strata(spambase,stratanames=c(\"is_spam\"),size=c(1269,1951),method=\"srswor\")\n",
    "names(spambase.strata)\n",
    "spambase.training <- spambase[rownames(spambase) %in% spambase.strata$ID_unit,]\n",
    "spambase.validation <- spambase[!(rownames(spambase) %in% spambase.strata$ID_unit),]\n",
    "nrow(spambase.training)\n",
    "nrow(spambase.validation)\n",
    "\n",
    "library(nnet)\n",
    "\n",
    "#your code start\n",
    "spam.nnet <- nnet(is_spam ~., data=spambase.training, size=2, decay=1.0e-5, maxit=100)\n",
    "\n",
    "#your code end\n",
    "\n",
    "table(actual=spambase.training$is_spam, predicted=predict(spam.nnet, type=\"class\"))\n",
    "\n",
    "table(actual=spambase.validation$is_spam, predicted=predict(spam.nnet, newdata=spambase.validation,type=\"class\"))\n"
   ]
  },
  {
   "cell_type": "code",
   "execution_count": null,
   "metadata": {},
   "outputs": [],
   "source": []
  },
  {
   "cell_type": "code",
   "execution_count": null,
   "metadata": {},
   "outputs": [],
   "source": []
  }
 ],
 "metadata": {
  "kernelspec": {
   "display_name": "R",
   "language": "R",
   "name": "ir"
  },
  "language_info": {
   "codemirror_mode": "r",
   "file_extension": ".r",
   "mimetype": "text/x-r-source",
   "name": "R",
   "pygments_lexer": "r",
   "version": "3.5.1"
  }
 },
 "nbformat": 4,
 "nbformat_minor": 4
}
