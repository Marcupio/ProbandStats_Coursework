{
 "cells": [
  {
   "cell_type": "code",
   "execution_count": 38,
   "metadata": {},
   "outputs": [],
   "source": [
    "import random\n",
    "import numpy as np\n",
    "from numpy import linspace\n",
    "from random import sample\n",
    "from random import shuffle\n",
    "from random import choices"
   ]
  },
  {
   "cell_type": "markdown",
   "metadata": {},
   "source": [
    "Here we have a range of integers from 1 to 10. "
   ]
  },
  {
   "cell_type": "code",
   "execution_count": 25,
   "metadata": {},
   "outputs": [],
   "source": [
    "X = range(1,11)"
   ]
  },
  {
   "cell_type": "markdown",
   "metadata": {},
   "source": [
    "Now we take a random sampling of those integers which gives us the values of our random variable 'randX'. \n",
    "However the size of our random variable subspace can only be up to the total sample size since there are no replacements for the random sampling."
   ]
  },
  {
   "cell_type": "code",
   "execution_count": 26,
   "metadata": {},
   "outputs": [
    {
     "name": "stdout",
     "output_type": "stream",
     "text": [
      "[10, 3, 8, 6, 9, 7, 1, 2, 5, 4]\n"
     ]
    }
   ],
   "source": [
    "randX = sample(X,10)\n",
    "print(randX)"
   ]
  },
  {
   "cell_type": "markdown",
   "metadata": {},
   "source": [
    "Now we sample from our sample size *with* replacements which means we can have an arbitrarily large subspace for our random variable. "
   ]
  },
  {
   "cell_type": "code",
   "execution_count": 27,
   "metadata": {},
   "outputs": [
    {
     "name": "stdout",
     "output_type": "stream",
     "text": [
      "[4, 10, 9, 3, 10, 6, 1, 9, 4, 2, 4, 1, 2, 1, 3, 4, 4, 9, 10, 6]\n"
     ]
    }
   ],
   "source": [
    "randY = choices(X,k=20)\n",
    "print(randY)"
   ]
  },
  {
   "cell_type": "markdown",
   "metadata": {},
   "source": [
    "Using *choices* we can also assign weights to our sample space. We utilize both sample and choices to randomize our weights as well."
   ]
  },
  {
   "cell_type": "code",
   "execution_count": 53,
   "metadata": {},
   "outputs": [
    {
     "name": "stdout",
     "output_type": "stream",
     "text": [
      "[0.         0.11111111 0.22222222 0.33333333 0.44444444 0.55555556\n",
      " 0.66666667 0.77777778 0.88888889 1.        ]\n",
      "[0.0, 1.0, 0.2222222222222222, 0.6666666666666666, 0.4444444444444444, 0.1111111111111111, 0.8888888888888888, 0.7777777777777777, 0.3333333333333333, 0.5555555555555556]\n",
      "[0.3333333333333333, 0.4444444444444444, 0.6666666666666666, 0.7777777777777777, 0.6666666666666666, 0.5555555555555556, 0.5555555555555556, 0.8888888888888888, 1.0, 0.3333333333333333]\n",
      "[6, 8, 7, 5, 3, 6, 4, 6, 5, 2, 6, 6, 5, 2, 7, 6, 9, 4, 5, 5]\n"
     ]
    }
   ],
   "source": [
    "ws = linspace(0,1,10) #ordered weights\n",
    "rand_ws = sample(list(ws),10) #random weights\n",
    "rand_ws_r = choices(list(ws), k=10) #random weights with replacement\n",
    "\n",
    "wrandY = choices(X,weights = rand_ws_r, k = 20)\n",
    "print(ws)\n",
    "print(rand_ws)\n",
    "print(rand_ws_r)\n",
    "print(wrandY)"
   ]
  },
  {
   "cell_type": "markdown",
   "metadata": {},
   "source": [
    "# Elder is a girl vs. at least one girl\n",
    "Lets now try a sample problem:  \n",
    "A family has two children, and it is known that at least one is a girl.  \n",
    "What is the probability that both are girls, given this information?  \n",
    "What if it is known that the elder child is a girl?"
   ]
  },
  {
   "cell_type": "code",
   "execution_count": 171,
   "metadata": {},
   "outputs": [],
   "source": [
    "k = 10**5                        # number of families we can test\n",
    "genders = [1,2]                  # girl == 1, boy == 2\n",
    "child1 = choices(genders, k = k) # represents gender of elder child\n",
    "child2 = choices(genders, k = k) # represents gender of younger child\n",
    "child_info = list(zip(child1,child2))\n"
   ]
  },
  {
   "cell_type": "markdown",
   "metadata": {},
   "source": [
    "### Probability both are girls given at least one child is a girl"
   ]
  },
  {
   "cell_type": "code",
   "execution_count": 172,
   "metadata": {},
   "outputs": [
    {
     "name": "stdout",
     "output_type": "stream",
     "text": [
      "75003\n",
      "24981\n",
      "The probability both children are girls= 0.3330666773329067\n"
     ]
    }
   ],
   "source": [
    "num_b1  =  0 #events where child1 or child2 is a girl \n",
    "num_ab1 = 0 #events where both child1 and child2 are girls \n",
    "\n",
    "for c1,c2 in child_info:    \n",
    "    if c1==1 and c2==1:\n",
    "        num_b1 += 1\n",
    "        num_ab1 += 1\n",
    "        \n",
    "    elif c1==1 or c2 ==1:\n",
    "        num_b1 += 1\n",
    "        \n",
    "print(num_b1)\n",
    "print(num_ab1)\n",
    "print(\"The probability both children are girls= \"+str(num_ab1/num_b1))"
   ]
  },
  {
   "cell_type": "markdown",
   "metadata": {},
   "source": [
    "### Probability both are girls given elder child is a girl"
   ]
  },
  {
   "cell_type": "code",
   "execution_count": 173,
   "metadata": {},
   "outputs": [
    {
     "name": "stdout",
     "output_type": "stream",
     "text": [
      "50075\n",
      "24981\n",
      "The probability both children are girls= 0.498871692461308\n"
     ]
    }
   ],
   "source": [
    "num_b2 = 0\n",
    "num_ab2 = 0\n",
    "\n",
    "for c1,c2 in child_info:\n",
    "    if c1 == 1 and c2 ==1:\n",
    "        num_b2 += 1\n",
    "        num_ab2 += 1\n",
    "    elif c1==1:\n",
    "        num_b2 += 1\n",
    "\n",
    "print(num_b2)\n",
    "print(num_ab2)\n",
    "print(\"The probability both children are girls= \"+str(num_ab2/num_b2))"
   ]
  }
 ],
 "metadata": {
  "kernelspec": {
   "display_name": "Python 3",
   "language": "python",
   "name": "python3"
  },
  "language_info": {
   "codemirror_mode": {
    "name": "ipython",
    "version": 3
   },
   "file_extension": ".py",
   "mimetype": "text/x-python",
   "name": "python",
   "nbconvert_exporter": "python",
   "pygments_lexer": "ipython3",
   "version": "3.7.1"
  }
 },
 "nbformat": 4,
 "nbformat_minor": 4
}
