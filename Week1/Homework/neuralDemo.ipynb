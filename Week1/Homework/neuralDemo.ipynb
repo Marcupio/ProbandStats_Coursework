{
 "cells": [
  {
   "cell_type": "code",
   "execution_count": null,
   "metadata": {},
   "outputs": [],
   "source": [
    "# neuralDemo.R\n",
    "# R 3.3.0"
   ]
  },
  {
   "cell_type": "code",
   "execution_count": null,
   "metadata": {},
   "outputs": [],
   "source": [
    "library(nnet)\n",
    "\n",
    "cat(\"\\nBegin neural network using nnet demo \\n\\n\")\n",
    "\n",
    "cat(\"Original Fisher's Iris data: \\n\\n\");\n",
    "origdf <- read.table(\"IrisData.txt\", header=TRUE, sep=\",\")\n",
    "write.table(origdf[1:2,], col.names=TRUE, sep=\"\\t\", quote=FALSE)\n",
    "cat(\". . . \\n\")\n",
    "write.table(origdf[51:52,], col.names=FALSE, sep=\"\\t\", quote=FALSE)\n",
    "cat(\". . . \\n\")\n",
    "write.table(origdf[101:102,], col.names=FALSE, sep=\"\\t\", quote=FALSE)\n",
    "cat(\"\\n\")"
   ]
  },
  {
   "cell_type": "code",
   "execution_count": null,
   "metadata": {},
   "outputs": [],
   "source": [
    "col1 <- origdf$Sepal.length\n",
    "col2 <- origdf$Sepal.width\n",
    "col3 <- origdf$Petal.length\n",
    "col4 <- origdf$Petal.width\n",
    "col5 <- factor(c(rep(\"s\",50), rep(\"c\",50), rep(\"v\",50)))\n",
    "\n",
    "irisdf <- data.frame(col1, col2, col3, col4, col5)\n",
    "names(irisdf) <- c(\"SepLen\", \"SepWid\", \"PetLen\", \"PetWid\", \"Species\")"
   ]
  },
  {
   "cell_type": "code",
   "execution_count": null,
   "metadata": {},
   "outputs": [],
   "source": [
    "cat(\"Factor-ized data: \\n\\n\");\n",
    "write.table(irisdf[1:2, ], col.names=TRUE, sep=\"\\t\", quote=FALSE)\n",
    "cat(\". . . \\n\")\n",
    "write.table(irisdf[51:52, ], col.names=FALSE, sep=\"\\t\", quote=FALSE)\n",
    "cat(\". . . \\n\")\n",
    "write.table(irisdf[101:102, ], col.names=FALSE, sep=\"\\t\", quote=FALSE)\n",
    "cat(\"\\n\")"
   ]
  },
  {
   "cell_type": "code",
   "execution_count": null,
   "metadata": {},
   "outputs": [],
   "source": [
    "# configure the training sample\n",
    "set.seed(1)\n",
    "sampidx <- c(sample(1:50,10), sample(51:100,10), sample(101:150,10))\n",
    "cat(\"The training sample indices are: \\n\")\n",
    "print(sampidx)"
   ]
  },
  {
   "cell_type": "code",
   "execution_count": null,
   "metadata": {},
   "outputs": [],
   "source": [
    "# create and train nn\n",
    "cat(\"\\nCreating and training a neural network . . \\n\")\n",
    "mynn <- nnet(Species ~ SepLen + SepWid + PetLen + PetWid, data=irisdf, subset = sampidx, size=2, decay=1.0e-5, maxit=50)"
   ]
  },
  {
   "cell_type": "code",
   "execution_count": null,
   "metadata": {},
   "outputs": [],
   "source": [
    "# evaluate accuracy of nn model with a confusion matrix\n",
    "cm <- table(irisdf$Species[-sampidx], predict(mynn, irisdf[-sampidx, ], type=\"class\"))\n",
    "# actual <- irisdf$Species[-sampidx]\n",
    "# preds <- predict(mynn, irisdf[-sampidx, ], type=\"class\")\n",
    "# cm <- table(actual, preds)\n",
    "cat(\"\\nConfusion matrix for resulting nn model is: \\n\")\n",
    "print(cm)"
   ]
  },
  {
   "cell_type": "code",
   "execution_count": null,
   "metadata": {},
   "outputs": [],
   "source": [
    "# make a single prediction\n",
    "x <- data.frame(5.1, 3.5, 1.4, 0.2, NA)\n",
    "names(x) <- c(\"SepLen\", \"SepWid\", \"PetLen\", \"PetWid\", \"Species\")\n",
    "pred_species <- predict(mynn, x, type=\"class\")\n",
    "print(pred_species)\n",
    "\n",
    "\n",
    "cat(\"\\nEnd neural network demo \\n\")"
   ]
  }
 ],
 "metadata": {
  "kernelspec": {
   "display_name": "R",
   "language": "R",
   "name": "ir"
  },
  "language_info": {
   "codemirror_mode": "r",
   "file_extension": ".r",
   "mimetype": "text/x-r-source",
   "name": "R",
   "pygments_lexer": "r",
   "version": "3.6.1"
  }
 },
 "nbformat": 4,
 "nbformat_minor": 4
}
