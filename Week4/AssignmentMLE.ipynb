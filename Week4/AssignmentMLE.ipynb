{
 "cells": [
  {
   "cell_type": "code",
   "execution_count": 28,
   "metadata": {},
   "outputs": [
    {
     "name": "stderr",
     "output_type": "stream",
     "text": [
      "`stat_bin()` using `bins = 30`. Pick better value with `binwidth`.\n"
     ]
    },
    {
     "data": {
      "text/plain": [
       "Maximum likelihood estimation\n",
       "\n",
       "Call:\n",
       "mle(minuslogl = neg_log_lik_gaussian, start = list(mu = 100, \n",
       "    sigma = 50))\n",
       "\n",
       "Coefficients:\n",
       "       Estimate Std. Error\n",
       "mu    139.22524  0.9505793\n",
       "sigma  30.05995  0.6721395\n",
       "\n",
       "-2 log L: 9644.307 "
      ]
     },
     "metadata": {},
     "output_type": "display_data"
    },
    {
     "data": {
      "image/png": "[encoded data removed]",
      "text/plain": [
       "plot without title"
      ]
     },
     "metadata": {},
     "output_type": "display_data"
    }
   ],
   "source": [
    "#install stats4, ggplot2 # packages only first time \n",
    "#install.packages(\"stats4\")\n",
    "#install.packages(\"ggplot2\")\n",
    "library(ggplot2)\n",
    "library(stats4)\n",
    "\n",
    "#set seed for random numbers\n",
    "set.seed(42)\n",
    "# simulate data from Normal distribution with 100 samples (change the sample number)\n",
    "x <- rnorm(1000, mean=140, sd=30)\n",
    "#Let us plot the distribution of our data as histogram using ggplot2\n",
    "qplot(x, geom=\"histogram\") \n",
    "# likelihood function for normal distribution\n",
    "# with two unknowns\n",
    "neg_log_lik_gaussian <- function(mu,sigma) {\n",
    "  -sum(dnorm(x, mean=mu, sd=sigma, log=TRUE))\n",
    "}\n",
    "\n",
    "gaussian_fit <- mle(neg_log_lik_gaussian, \n",
    "          start=list(mu=100, sigma=50))\n",
    "\n",
    "summary(gaussian_fit)"
   ]
  },
  {
   "cell_type": "code",
   "execution_count": null,
   "metadata": {},
   "outputs": [],
   "source": []
  },
  {
   "cell_type": "code",
   "execution_count": null,
   "metadata": {},
   "outputs": [],
   "source": []
  }
 ],
 "metadata": {
  "kernelspec": {
   "display_name": "R",
   "language": "R",
   "name": "ir"
  },
  "language_info": {
   "codemirror_mode": "r",
   "file_extension": ".r",
   "mimetype": "text/x-r-source",
   "name": "R",
   "pygments_lexer": "r",
   "version": "3.6.1"
  }
 },
 "nbformat": 4,
 "nbformat_minor": 4
}
