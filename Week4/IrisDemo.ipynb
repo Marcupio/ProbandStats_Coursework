{
 "cells": [
  {
   "cell_type": "code",
   "execution_count": 5,
   "metadata": {},
   "outputs": [
    {
     "name": "stdout",
     "output_type": "stream",
     "text": [
      "\n",
      "Begin neural network using nnet demo \n",
      "\n",
      "Original Fisher's Iris data: \n",
      "\n",
      "Sepal.length\tSepal.width\tPetal.length\tPetal.width\tSpecies\n",
      "1\t5.1\t3.5\t1.4\t0.2\t I. setosa \n",
      "2\t4.9\t3\t1.4\t0.2\t I. setosa \n",
      ". . . \n",
      "51\t7\t3.2\t4.7\t1.4\t I. versicolor \n",
      "52\t6.4\t3.2\t4.5\t1.5\t I. versicolor \n",
      ". . . \n",
      "101\t6.3\t3.3\t6\t2.5\t I. virginica \n",
      "102\t5.8\t2.7\t5.1\t1.9\t I. virginica \n",
      "\n",
      "Factor-ized data: \n",
      "\n",
      "SepLen\tSepWid\tPetLen\tPetWid\tSpecies\n",
      "1\t5.1\t3.5\t1.4\t0.2\ts\n",
      "2\t4.9\t3\t1.4\t0.2\ts\n",
      ". . . \n",
      "51\t7\t3.2\t4.7\t1.4\tc\n",
      "52\t6.4\t3.2\t4.5\t1.5\tc\n",
      ". . . \n",
      "101\t6.3\t3.3\t6\t2.5\tv\n",
      "102\t5.8\t2.7\t5.1\t1.9\tv\n",
      "\n",
      "\n",
      "Creating and training a neural network . . \n",
      "# weights:  19\n",
      "initial  value 42.107634 \n",
      "iter  10 value 14.010370\n",
      "iter  20 value 13.873896\n",
      "iter  30 value 13.871074\n",
      "iter  40 value 13.869943\n",
      "iter  50 value 13.869799\n",
      "iter  60 value 13.868698\n",
      "iter  70 value 13.733721\n",
      "iter  80 value 12.865709\n",
      "iter  90 value 4.155934\n",
      "iter 100 value 1.214120\n",
      "iter 110 value 0.130192\n",
      "iter 120 value 0.098698\n",
      "iter 130 value 0.098183\n",
      "iter 140 value 0.097353\n",
      "iter 150 value 0.083795\n",
      "iter 160 value 0.074548\n",
      "iter 170 value 0.073469\n",
      "iter 180 value 0.064314\n",
      "iter 190 value 0.041903\n",
      "iter 200 value 0.038385\n",
      "iter 210 value 0.037326\n",
      "iter 220 value 0.032581\n",
      "iter 230 value 0.031401\n",
      "iter 240 value 0.030893\n",
      "iter 250 value 0.024630\n",
      "iter 260 value 0.017821\n",
      "iter 270 value 0.015374\n",
      "iter 280 value 0.014932\n",
      "iter 290 value 0.014082\n",
      "iter 300 value 0.013690\n",
      "iter 310 value 0.011935\n",
      "iter 320 value 0.011881\n",
      "iter 330 value 0.011751\n",
      "iter 340 value 0.011644\n",
      "iter 350 value 0.011525\n",
      "iter 360 value 0.011500\n",
      "iter 370 value 0.011435\n",
      "iter 380 value 0.011410\n",
      "iter 390 value 0.011335\n",
      "iter 400 value 0.011203\n",
      "iter 410 value 0.011172\n",
      "iter 420 value 0.011163\n",
      "iter 430 value 0.011130\n",
      "iter 440 value 0.011104\n",
      "iter 450 value 0.011100\n",
      "iter 460 value 0.011088\n",
      "iter 470 value 0.011071\n",
      "iter 480 value 0.011066\n",
      "iter 490 value 0.011063\n",
      "iter 500 value 0.011060\n",
      "final  value 0.011060 \n",
      "stopped after 500 iterations\n",
      "\n",
      "Confusion matrix for resulting nn model is: \n",
      "      preds\n",
      "actual  c  s  v\n",
      "     c 36  0  4\n",
      "     s  0 40  0\n",
      "     v  1  0 39\n"
     ]
    },
    {
     "name": "stderr",
     "output_type": "stream",
     "text": [
      "Warning message:\n",
      "\"glm.fit: algorithm did not converge\"Warning message:\n",
      "\"glm.fit: fitted probabilities numerically 0 or 1 occurred\""
     ]
    },
    {
     "data": {
      "text/plain": [
       "\n",
       "Call:\n",
       "glm(formula = virginica ~ ., family = binomial(logit), data = x)\n",
       "\n",
       "Deviance Residuals: \n",
       "       Min          1Q      Median          3Q         Max  \n",
       "-4.359e-05  -2.100e-08  -2.100e-08   2.100e-08   4.815e-05  \n",
       "\n",
       "Coefficients:\n",
       "              Estimate Std. Error z value Pr(>|z|)\n",
       "(Intercept) -2.295e+02  1.059e+06   0.000    1.000\n",
       "SepLen       5.747e-01  1.136e+05   0.000    1.000\n",
       "SepWid      -7.710e+01  1.753e+05   0.000    1.000\n",
       "PetLen       8.644e+01  1.277e+05   0.001    0.999\n",
       "PetWid       2.064e+01  2.791e+05   0.000    1.000\n",
       "\n",
       "(Dispersion parameter for binomial family taken to be 1)\n",
       "\n",
       "    Null deviance: 3.8191e+01  on 29  degrees of freedom\n",
       "Residual deviance: 5.0973e-09  on 25  degrees of freedom\n",
       "AIC: 10\n",
       "\n",
       "Number of Fisher Scoring iterations: 25\n"
      ]
     },
     "metadata": {},
     "output_type": "display_data"
    },
    {
     "name": "stderr",
     "output_type": "stream",
     "text": [
      "Warning message:\n",
      "\"glm.fit: algorithm did not converge\""
     ]
    },
    {
     "data": {
      "text/plain": [
       "\n",
       "Call:\n",
       "glm(formula = setosa ~ ., family = binomial(logit), data = x)\n",
       "\n",
       "Deviance Residuals: \n",
       "       Min          1Q      Median          3Q         Max  \n",
       "-2.409e-06  -2.409e-06  -2.409e-06   2.409e-06   2.409e-06  \n",
       "\n",
       "Coefficients: (1 not defined because of singularities)\n",
       "                Estimate Std. Error z value Pr(>|z|)\n",
       "(Intercept)   -2.657e+01  3.861e+05       0        1\n",
       "SepLen         5.598e-12  1.090e+05       0        1\n",
       "SepWid         1.661e-11  1.244e+05       0        1\n",
       "PetLen        -8.106e-12  1.271e+05       0        1\n",
       "PetWid        -8.047e-12  2.108e+05       0        1\n",
       "Speciess       5.313e+01  3.138e+05       0        1\n",
       "Speciesv       8.740e-12  1.612e+05       0        1\n",
       "virginicaTRUE         NA         NA      NA       NA\n",
       "\n",
       "(Dispersion parameter for binomial family taken to be 1)\n",
       "\n",
       "    Null deviance: 1.5276e+02  on 119  degrees of freedom\n",
       "Residual deviance: 6.9619e-10  on 113  degrees of freedom\n",
       "AIC: 14\n",
       "\n",
       "Number of Fisher Scoring iterations: 25\n"
      ]
     },
     "metadata": {},
     "output_type": "display_data"
    },
    {
     "name": "stderr",
     "output_type": "stream",
     "text": [
      "Warning message in predict.lm(object, newdata, se.fit, scale = 1, type = if (type == :\n",
      "\"prediction from a rank-deficient fit may be misleading\"Warning message:\n",
      "\"glm.fit: algorithm did not converge\""
     ]
    },
    {
     "data": {
      "text/plain": [
       "\n",
       "Call:\n",
       "glm(formula = versicolor ~ ., family = binomial(logit), data = x)\n",
       "\n",
       "Deviance Residuals: \n",
       "       Min          1Q      Median          3Q         Max  \n",
       "-2.409e-06  -2.409e-06  -2.409e-06   2.409e-06   2.409e-06  \n",
       "\n",
       "Coefficients: (2 not defined because of singularities)\n",
       "                Estimate Std. Error z value Pr(>|z|)\n",
       "(Intercept)    2.657e+01  3.861e+05       0        1\n",
       "SepLen        -1.078e-11  1.090e+05       0        1\n",
       "SepWid         7.227e-12  1.244e+05       0        1\n",
       "PetLen         1.620e-11  1.271e+05       0        1\n",
       "PetWid         7.406e-12  2.108e+05       0        1\n",
       "Speciess      -5.313e+01  3.138e+05       0        1\n",
       "Speciesv      -5.313e+01  1.612e+05       0        1\n",
       "virginicaTRUE         NA         NA      NA       NA\n",
       "setosaTRUE            NA         NA      NA       NA\n",
       "\n",
       "(Dispersion parameter for binomial family taken to be 1)\n",
       "\n",
       "    Null deviance: 1.5276e+02  on 119  degrees of freedom\n",
       "Residual deviance: 6.9619e-10  on 113  degrees of freedom\n",
       "AIC: 14\n",
       "\n",
       "Number of Fisher Scoring iterations: 25\n"
      ]
     },
     "metadata": {},
     "output_type": "display_data"
    },
    {
     "name": "stderr",
     "output_type": "stream",
     "text": [
      "Warning message in predict.lm(object, newdata, se.fit, scale = 1, type = if (type == :\n",
      "\"prediction from a rank-deficient fit may be misleading\""
     ]
    },
    {
     "name": "stdout",
     "output_type": "stream",
     "text": [
      "\n",
      " Versicolor Test Result"
     ]
    },
    {
     "data": {
      "text/plain": [
       "       predicted\n",
       "actual  FALSE TRUE\n",
       "  FALSE    80    0\n",
       "  TRUE      0   40"
      ]
     },
     "metadata": {},
     "output_type": "display_data"
    },
    {
     "name": "stdout",
     "output_type": "stream",
     "text": [
      "\n",
      " Setosa Test Result"
     ]
    },
    {
     "data": {
      "text/plain": [
       "       predicted\n",
       "actual  FALSE TRUE\n",
       "  FALSE    80    0\n",
       "  TRUE      0   40"
      ]
     },
     "metadata": {},
     "output_type": "display_data"
    },
    {
     "name": "stdout",
     "output_type": "stream",
     "text": [
      "\n",
      " Virginica Test Result"
     ]
    },
    {
     "data": {
      "text/plain": [
       "       predicted\n",
       "actual  FALSE TRUE\n",
       "  FALSE    74    6\n",
       "  TRUE      1   39"
      ]
     },
     "metadata": {},
     "output_type": "display_data"
    },
    {
     "name": "stdout",
     "output_type": "stream",
     "text": [
      "\n",
      " Neural Network Confusion Matrix Test Result"
     ]
    },
    {
     "data": {
      "text/plain": [
       "      preds\n",
       "actual  c  s  v\n",
       "     c 36  0  4\n",
       "     s  0 40  0\n",
       "     v  1  0 39"
      ]
     },
     "metadata": {},
     "output_type": "display_data"
    },
    {
     "data": {
      "image/png": "[encoded data removed]",
      "text/plain": [
       "plot without title"
      ]
     },
     "metadata": {},
     "output_type": "display_data"
    }
   ],
   "source": [
    "# neuralDemo42.R\n",
    "# R 3.3.0\n",
    "\n",
    "library(nnet)\n",
    "\n",
    "cat(\"\\nBegin neural network using nnet demo \\n\\n\")\n",
    "\n",
    "cat(\"Original Fisher's Iris data: \\n\\n\");\n",
    "origdf <- read.table(\"IrisData.txt\", header=TRUE, sep=\",\")\n",
    "write.table(origdf[1:2,], col.names=TRUE, sep=\"\\t\", quote=FALSE)\n",
    "cat(\". . . \\n\")\n",
    "write.table(origdf[51:52,], col.names=FALSE, sep=\"\\t\", quote=FALSE)\n",
    "cat(\". . . \\n\")\n",
    "write.table(origdf[101:102,], col.names=FALSE, sep=\"\\t\", quote=FALSE)\n",
    "cat(\"\\n\")\n",
    "\n",
    "col1 <- origdf$Sepal.length\n",
    "col2 <- origdf$Sepal.width\n",
    "col3 <- origdf$Petal.length\n",
    "col4 <- origdf$Petal.width\n",
    "col5 <- factor(c(rep(\"s\",50), rep(\"c\",50), rep(\"v\",50)))\n",
    "\n",
    "irisdf <- data.frame(col1, col2, col3, col4, col5)\n",
    "names(irisdf) <- c(\"SepLen\", \"SepWid\", \"PetLen\", \"PetWid\", \"Species\")\n",
    "\n",
    "cat(\"Factor-ized data: \\n\\n\");\n",
    "write.table(irisdf[1:2, ], col.names=TRUE, sep=\"\\t\", quote=FALSE)\n",
    "cat(\". . . \\n\")\n",
    "write.table(irisdf[51:52, ], col.names=FALSE, sep=\"\\t\", quote=FALSE)\n",
    "cat(\". . . \\n\")\n",
    "write.table(irisdf[101:102, ], col.names=FALSE, sep=\"\\t\", quote=FALSE)\n",
    "cat(\"\\n\")\n",
    "\n",
    "# configure the training sample\n",
    "set.seed(1)\n",
    "sampidx <- c(sample(1:50,10), sample(51:100,10), sample(101:150,10))\n",
    "\n",
    "\n",
    "\n",
    "# create and train nn\n",
    "cat(\"\\nCreating and training a neural network . . \\n\")\n",
    "mynn <- nnet(Species ~ SepLen + SepWid + PetLen + PetWid, data=irisdf, subset = sampidx, size=2, decay=1.0e-5, maxit=500)\n",
    "\n",
    "# evaluate accuracy of nn model with a confusion matrix\n",
    "cm <- table(irisdf$Species[-sampidx], predict(mynn, irisdf[-sampidx, ], type=\"class\"))\n",
    "actual <- irisdf$Species[-sampidx]\n",
    "\n",
    "preds <- predict(mynn, irisdf[-sampidx, ], type=\"class\")\n",
    "cm <- table(actual, preds)\n",
    "cat(\"\\nConfusion matrix for resulting nn model is: \\n\")\n",
    "print(cm)\n",
    "\n",
    "\n",
    "#######\n",
    "### Classification with logistic regression and family binomial \n",
    "\n",
    "\n",
    "\n",
    "iris<-irisdf  #origdf\n",
    "x <-  iris[sampidx,]\n",
    "\n",
    "# Virginica\n",
    "x$virginica <- x$Species == \"v\"\n",
    "x$Species <-NULL\n",
    "plot(x, col=x$virginica+1)\n",
    "\n",
    "model <- glm(virginica ~ .,family = binomial(logit), data=x)\n",
    "summary(model)\n",
    " \n",
    "#Aboiut the warning: glm.fit: fitted probabilities numerically 0 or 1 occurred \n",
    "#means that the data is possibly linearely separable.\n",
    "x<-irisdf[-sampidx, ]\n",
    "x$virginica <- x$Species == \"v\"\n",
    "\n",
    "prv <- predict(model, x, type=\"response\")\n",
    "\n",
    "\n",
    "#Setosa\n",
    "x$setosa <- x$Species == \"s\"\n",
    "model <- glm(setosa ~ .,family = binomial(logit), data=x)\n",
    "summary(model)\n",
    "prs <- predict(model, x, type=\"response\")\n",
    "# Versicolor\n",
    "x$versicolor <- x$Species == \"c\"\n",
    "model <- glm(versicolor ~ .,family = binomial(logit), data=x)\n",
    "summary(model)\n",
    "prc <- predict(model, x, type=\"response\")\n",
    "\n",
    "\n",
    "cat(\"\\n Versicolor Test Result\")\n",
    "table(actual=x$versicolor, predicted=prc>.5)\n",
    "cat(\"\\n Setosa Test Result\")\n",
    "table(actual=x$setosa, predicted=prs>.5)\n",
    "cat(\"\\n Virginica Test Result\")\n",
    "table(actual=x$virginica, predicted=prv>.5)\n",
    "\n",
    "\n",
    "cat(\"\\n Neural Network Confusion Matrix Test Result\")\n",
    "cm"
   ]
  },
  {
   "cell_type": "code",
   "execution_count": null,
   "metadata": {},
   "outputs": [],
   "source": []
  }
 ],
 "metadata": {
  "kernelspec": {
   "display_name": "R",
   "language": "R",
   "name": "ir"
  },
  "language_info": {
   "codemirror_mode": "r",
   "file_extension": ".r",
   "mimetype": "text/x-r-source",
   "name": "R",
   "pygments_lexer": "r",
   "version": "3.6.1"
  }
 },
 "nbformat": 4,
 "nbformat_minor": 4
}
