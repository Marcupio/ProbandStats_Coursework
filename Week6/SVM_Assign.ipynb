{
 "cells": [
  {
   "cell_type": "code",
   "execution_count": 4,
   "metadata": {},
   "outputs": [
    {
     "name": "stdout",
     "output_type": "stream",
     "text": [
      "package 'e1071' successfully unpacked and MD5 sums checked\n",
      "\n",
      "The downloaded binary packages are in\n",
      "\tC:\\Users\\crius\\AppData\\Local\\Temp\\RtmpQnalLK\\downloaded_packages\n"
     ]
    },
    {
     "name": "stderr",
     "output_type": "stream",
     "text": [
      "Warning message:\n",
      "\"package 'e1071' was built under R version 3.6.3\""
     ]
    },
    {
     "data": {
      "text/plain": [
       "\n",
       "Call:\n",
       "svm.default(x = x, y = y, kernel = \"linear\")\n",
       "\n",
       "\n",
       "Parameters:\n",
       "   SVM-Type:  C-classification \n",
       " SVM-Kernel:  linear \n",
       "       cost:  1 \n",
       "\n",
       "Number of Support Vectors:  29\n",
       "\n",
       " ( 2 15 12 )\n",
       "\n",
       "\n",
       "Number of Classes:  3 \n",
       "\n",
       "Levels: \n",
       " setosa versicolor virginica\n",
       "\n",
       "\n"
      ]
     },
     "metadata": {},
     "output_type": "display_data"
    },
    {
     "data": {
      "text/plain": [
       "\n",
       "Call:\n",
       "svm(formula = Species ~ ., data = iris)\n",
       "\n",
       "\n",
       "Parameters:\n",
       "   SVM-Type:  C-classification \n",
       " SVM-Kernel:  radial \n",
       "       cost:  1 \n",
       "\n",
       "Number of Support Vectors:  51\n",
       "\n",
       " ( 8 22 21 )\n",
       "\n",
       "\n",
       "Number of Classes:  3 \n",
       "\n",
       "Levels: \n",
       " setosa versicolor virginica\n",
       "\n",
       "\n"
      ]
     },
     "metadata": {},
     "output_type": "display_data"
    },
    {
     "name": "stdout",
     "output_type": "stream",
     "text": [
      "\n",
      "Parameter tuning of 'svm':\n",
      "\n",
      "- sampling method: 10-fold cross validation \n",
      "\n",
      "- best parameters:\n",
      " cost gamma\n",
      "    1   0.5\n",
      "\n",
      "- best performance: 0.04 \n",
      "\n"
     ]
    },
    {
     "data": {
      "text/plain": [
       "\n",
       "Call:\n",
       "svm(formula = Species ~ ., data = iris, kernel = \"radial\", cost = 1, \n",
       "    gamma = 0.5)\n",
       "\n",
       "\n",
       "Parameters:\n",
       "   SVM-Type:  C-classification \n",
       " SVM-Kernel:  radial \n",
       "       cost:  1 \n",
       "\n",
       "Number of Support Vectors:  59\n",
       "\n",
       " ( 11 23 25 )\n",
       "\n",
       "\n",
       "Number of Classes:  3 \n",
       "\n",
       "Levels: \n",
       " setosa versicolor virginica\n",
       "\n",
       "\n"
      ]
     },
     "metadata": {},
     "output_type": "display_data"
    },
    {
     "data": {
      "text/plain": [
       "            y\n",
       "pred         setosa versicolor virginica\n",
       "  setosa         50          0         0\n",
       "  versicolor      0         46         1\n",
       "  virginica       0          4        49"
      ]
     },
     "metadata": {},
     "output_type": "display_data"
    },
    {
     "data": {
      "text/plain": [
       "            y\n",
       "pred         setosa versicolor virginica\n",
       "  setosa         50          0         0\n",
       "  versicolor      0         48         2\n",
       "  virginica       0          2        48"
      ]
     },
     "metadata": {},
     "output_type": "display_data"
    },
    {
     "data": {
      "text/plain": [
       "            y\n",
       "pred         setosa versicolor virginica\n",
       "  setosa         50          0         0\n",
       "  versicolor      0         48         2\n",
       "  virginica       0          2        48"
      ]
     },
     "metadata": {},
     "output_type": "display_data"
    }
   ],
   "source": [
    "# SVD aasigment\n",
    "# R 3.\n",
    "# To use SVM in R, we have a package e1071. The package is not preinstalled, \n",
    "# hence one needs to run the line “install.packages(“e1071”) to install the package\n",
    "# and then import the package contents using the library command. \n",
    "# The syntax of svm package is quite similar to linear regression\n",
    "# documentation is at https://www.rdocumentation.org/packages/e1071/versions/1.6-8/topics/svm\n",
    "#install.packages(\"e1071\")\n",
    "\n",
    "library(\"e1071\")\n",
    "\n",
    "#This part IRSI serves as an example how to use R code for SVM\n",
    "\n",
    "attach(iris)\n",
    "\n",
    "#Divide Iris data to x (containt the all features) and y only the classes\n",
    "x <- subset(iris, select=-Species)\n",
    "y <- Species\n",
    "\n",
    "#Create SVM Model, by default kernel is radial exp(-gamma*|u-v|^2), and penalty C for missclassification is 1.\n",
    "#we will use first linear\n",
    "\n",
    "svm_model <- svm(x,y, kernel=\"linear\")\n",
    "summary(svm_model)\n",
    "\n",
    "#Run Prediction \n",
    "pred <- predict(svm_model,x)\n",
    "#Linear\n",
    "tl<-table(pred,y)\n",
    "\n",
    "\n",
    "svm_model <- svm(Species ~ ., data=iris)\n",
    "summary(svm_model)\n",
    "\n",
    "#Run Prediction \n",
    "pred <- predict(svm_model,x)\n",
    "#Radila SVM\n",
    "tr<-table(pred,y)\n",
    "\n",
    "\n",
    "# Tuning SVM to find the best cost and gamma \n",
    "# The optimal values are obtained using the tune.svm function (also available in e1071),\n",
    "# which essentially builds models for multiple combinations of parameter values and selects the best.\n",
    "#------------------------------------------\n",
    "svm_tune <- tune(svm, train.x=x, train.y=y, \n",
    "              kernel=\"radial\", ranges=list(cost=10^(-1:2), gamma=c(.5,1,2)))\n",
    "\n",
    "print(svm_tune)\n",
    "\n",
    "#After you find the best cost and gamma, you can create svm model again and try to run again\n",
    "svm_model_after_tune <- svm(Species ~ ., data=iris, kernel=\"radial\", cost=1, gamma=0.5)\n",
    "summary(svm_model_after_tune)\n",
    "\n",
    "#Run Prediction again with new tuned model\n",
    "pred <- predict(svm_model_after_tune,x)\n",
    "ttune<-table(pred,y)\n",
    "\n",
    "\n",
    "#See the confusion matrix result of prediction, using command table to compare the result of \n",
    "#SVM prediction linear, radila and tuned\n",
    "\n",
    "tl\n",
    "tr\n",
    "ttune"
   ]
  },
  {
   "cell_type": "code",
   "execution_count": 7,
   "metadata": {},
   "outputs": [
    {
     "data": {
      "text/plain": [
       "\n",
       "Call:\n",
       "svm.default(x = x_train, y = y_train, kernel = \"linear\")\n",
       "\n",
       "\n",
       "Parameters:\n",
       "   SVM-Type:  C-classification \n",
       " SVM-Kernel:  linear \n",
       "       cost:  1 \n",
       "\n",
       "Number of Support Vectors:  28\n",
       "\n",
       " ( 13 15 )\n",
       "\n",
       "\n",
       "Number of Classes:  2 \n",
       "\n",
       "Levels: \n",
       " B M\n",
       "\n",
       "\n"
      ]
     },
     "metadata": {},
     "output_type": "display_data"
    },
    {
     "data": {
      "text/plain": [
       "\n",
       "Call:\n",
       "svm.default(x = x_train, y = y_train)\n",
       "\n",
       "\n",
       "Parameters:\n",
       "   SVM-Type:  C-classification \n",
       " SVM-Kernel:  radial \n",
       "       cost:  1 \n",
       "\n",
       "Number of Support Vectors:  90\n",
       "\n",
       " ( 47 43 )\n",
       "\n",
       "\n",
       "Number of Classes:  2 \n",
       "\n",
       "Levels: \n",
       " B M\n",
       "\n",
       "\n"
      ]
     },
     "metadata": {},
     "output_type": "display_data"
    },
    {
     "data": {
      "text/plain": [
       "           y_test\n",
       "pred_linear   B   M\n",
       "          B 101   1\n",
       "          M   3  65"
      ]
     },
     "metadata": {},
     "output_type": "display_data"
    },
    {
     "data": {
      "text/plain": [
       "           y_test\n",
       "pred_radial   B   M\n",
       "          B 102   2\n",
       "          M   2  64"
      ]
     },
     "metadata": {},
     "output_type": "display_data"
    },
    {
     "data": {
      "text/plain": [
       "\n",
       "Error estimation of 'svm' using 10-fold cross validation: 0.0300641\n"
      ]
     },
     "metadata": {},
     "output_type": "display_data"
    }
   ],
   "source": [
    "##########################################################################################\n",
    "###############Assigment starts here \n",
    "\n",
    "dataset <- read.csv('wdbc.csv',head = FALSE)\n",
    "index <- 1:nrow(dataset)\n",
    "\n",
    "testindex <- sample(index, trunc(length(index)*30/100))\n",
    "\n",
    "testset <- dataset[testindex,]\n",
    "\n",
    "trainset <- dataset[-testindex,]\n",
    "x_train <- trainset[,3:31]\n",
    "y_train <- trainset[,2]\n",
    "x_test <- testset[,3:31]\n",
    "y_test <- testset[,2]\n",
    "\n",
    "\n",
    "#Assigment : find the optimal SVM for calssification (try linear and  radial)\n",
    "#start code\n",
    "svm_linear <- svm(x_train,y_train, kernel=\"linear\") ## edit here\n",
    "summary(svm_linear)\n",
    "pred_linear <- predict(svm_linear,x_test)\n",
    "t_linear <- table(pred_linear,y_test)\n",
    "\n",
    "#Radial\n",
    "svm_radial <-  svm(x_train,y_train)## edit here\n",
    "summary(svm_radial)\n",
    "pred_radial <- predict(svm_radial,x_test)  ## edit here\n",
    "t_radial<- table(pred_radial,y_test)## edit here\n",
    "\n",
    "#Tuning\n",
    "svm_tune <- tune(svm, train.x=x_train, train.y=y_train) \n",
    "  \n",
    "t_linear  \n",
    "t_radial\n",
    "#svm_tune\n",
    "#end code"
   ]
  },
  {
   "cell_type": "code",
   "execution_count": null,
   "metadata": {},
   "outputs": [],
   "source": []
  }
 ],
 "metadata": {
  "kernelspec": {
   "display_name": "R",
   "language": "R",
   "name": "ir"
  },
  "language_info": {
   "codemirror_mode": "r",
   "file_extension": ".r",
   "mimetype": "text/x-r-source",
   "name": "R",
   "pygments_lexer": "r",
   "version": "3.6.1"
  }
 },
 "nbformat": 4,
 "nbformat_minor": 4
}
