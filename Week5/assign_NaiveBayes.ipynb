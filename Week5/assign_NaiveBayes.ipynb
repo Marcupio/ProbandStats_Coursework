{
 "cells": [
  {
   "cell_type": "code",
   "execution_count": 6,
   "metadata": {},
   "outputs": [
    {
     "data": {
      "application/vnd.jupyter.widget-view+json": {
       "model_id": "095a45676bef45c6a085295c07948d25",
       "version_major": 2,
       "version_minor": 0
      },
      "text/plain": [
       "Canvas(toolbar=Toolbar(toolitems=[('Home', 'Reset original view', 'home', 'home'), ('Back', 'Back to previous …"
      ]
     },
     "metadata": {},
     "output_type": "display_data"
    },
    {
     "data": {
      "text/plain": [
       "(1797,)"
      ]
     },
     "execution_count": 6,
     "metadata": {},
     "output_type": "execute_result"
    }
   ],
   "source": [
    "%matplotlib widget\n",
    "import numpy as np\n",
    "import matplotlib.pyplot as plt\n",
    "import pandas as pd\n",
    "import seaborn as sns; sns.set()\n",
    "import sklearn\n",
    "\n",
    "from sklearn.decomposition import PCA\n",
    "from sklearn.datasets import load_digits\n",
    "\n",
    "\n",
    "digits = load_digits()\n",
    "digits.images.shape\n",
    "\n",
    "\n",
    "#Show digits\n",
    "import matplotlib.pyplot as plt\n",
    "from matplotlib import interactive\n",
    "\n",
    "fig, axes = plt.subplots(10, 10, figsize=(8, 8),\n",
    "                         subplot_kw={'xticks':[], 'yticks':[]},\n",
    "                         gridspec_kw=dict(hspace=0.1, wspace=0.1))\n",
    "\n",
    "for i, ax in enumerate(axes.flat):\n",
    "    ax.imshow(digits.images[i], cmap='binary', interpolation='nearest')\n",
    "    ax.text(0.05, 0.05, str(digits.target[i]), transform=ax.transAxes, color='green')\n",
    "\t\t\t\n",
    "interactive(True)\n",
    "plt.show()\n",
    "\n",
    "X = digits.data\n",
    "y = digits.target\n",
    "X.shape\n",
    "y.shape"
   ]
  },
  {
   "cell_type": "code",
   "execution_count": 7,
   "metadata": {},
   "outputs": [
    {
     "name": "stdout",
     "output_type": "stream",
     "text": [
      "original accuracy_score : 0.8333333333333334\n"
     ]
    },
    {
     "data": {
      "application/vnd.jupyter.widget-view+json": {
       "model_id": "609fc291812c4611a93c493805e8bcc1",
       "version_major": 2,
       "version_minor": 0
      },
      "text/plain": [
       "Canvas(toolbar=Toolbar(toolitems=[('Home', 'Reset original view', 'home', 'home'), ('Back', 'Back to previous …"
      ]
     },
     "metadata": {},
     "output_type": "display_data"
    }
   ],
   "source": [
    "# Apply NBC on raw data\n",
    "from sklearn.model_selection import train_test_split #changed cross_validation to model_selection\n",
    "Xtrain, Xtest, ytrain, ytest = train_test_split(X, y, random_state=0)\n",
    "\n",
    "from sklearn.naive_bayes import GaussianNB\n",
    "model =GaussianNB()\n",
    "model.fit(Xtrain, ytrain)\n",
    "y_model = model.predict(Xtest)\n",
    "from sklearn.metrics import accuracy_score\n",
    "ac=accuracy_score(ytest, y_model)\n",
    "print(\"original accuracy_score :\",ac)\n",
    "\n",
    "from sklearn.metrics import confusion_matrix\n",
    "mat = confusion_matrix(ytest, y_model)\n",
    "plt.figure(2)\n",
    "sns.heatmap(mat, square=True, annot=True, cbar=False)\n",
    "plt.xlabel('predicted value')\n",
    "plt.ylabel('true value');\n",
    "\n",
    "plt.show()"
   ]
  },
  {
   "cell_type": "code",
   "execution_count": 8,
   "metadata": {},
   "outputs": [
    {
     "data": {
      "application/vnd.jupyter.widget-view+json": {
       "model_id": "20726acdda884a60a7fc4d442732f35b",
       "version_major": 2,
       "version_minor": 0
      },
      "text/plain": [
       "Canvas(toolbar=Toolbar(toolitems=[('Home', 'Reset original view', 'home', 'home'), ('Back', 'Back to previous …"
      ]
     },
     "metadata": {},
     "output_type": "display_data"
    }
   ],
   "source": [
    "#Lets see how correlated pixels are - it seems that pixel next to each others are correlated\n",
    "#Let check it by correlation matrix, and  plot hitmap for first  7 pixels/features\n",
    "df = pd.DataFrame(X[:,0:7])\n",
    "corrMatrix=df.corr()\n",
    "plt.figure(3)\n",
    "sns.heatmap(corrMatrix, annot=True) \n",
    "plt.show()"
   ]
  },
  {
   "cell_type": "code",
   "execution_count": 9,
   "metadata": {},
   "outputs": [
    {
     "data": {
      "application/vnd.jupyter.widget-view+json": {
       "model_id": "cf5a49ff50604e119bfe6891e739bc4a",
       "version_major": 2,
       "version_minor": 0
      },
      "text/plain": [
       "Canvas(toolbar=Toolbar(toolitems=[('Home', 'Reset original view', 'home', 'home'), ('Back', 'Back to previous …"
      ]
     },
     "metadata": {},
     "output_type": "display_data"
    }
   ],
   "source": [
    "#Ok, now let's decorrelate the input features by applying PCA (Linear Algebra course)\n",
    "\n",
    "pca = PCA(64)  # Change this line for experiments PCA(8,16,32)\n",
    "projected = pca.fit_transform(digits.data)\n",
    "Xtrain, Xtest, ytrain, ytest = train_test_split(projected, y, random_state=0)\n",
    "\n",
    "#Plot PC1/PC2 to visualize decorrelation\n",
    "fig = plt.figure(4)\n",
    "ax = plt.axes(projection = \"3d\")\n",
    "ax.scatter3D(projected[:, 0], projected[:, 1],projected[:, 2],\n",
    "            c=digits.target, alpha=0.5,\n",
    "            cmap=plt.cm.get_cmap(\"Spectral\", 10)) #changed 'spectral' to \"Spectral\"\n",
    "ax.set_xlabel('PCA component 1')\n",
    "ax.set_ylabel('PCA component 2')\n",
    "ax.set_zlabel('PCA component 3')\n",
    "#plt.colorbar();\n",
    "plt.show()\n",
    " "
   ]
  },
  {
   "cell_type": "code",
   "execution_count": 39,
   "metadata": {},
   "outputs": [
    {
     "name": "stdout",
     "output_type": "stream",
     "text": [
      "decorr accuracy_score: 0.8688888888888889\n"
     ]
    },
    {
     "data": {
      "image/png": "[encoded data removed]",
      "text/plain": [
       "<Figure size 432x288 with 1 Axes>"
      ]
     },
     "metadata": {},
     "output_type": "display_data"
    }
   ],
   "source": [
    "#Now aplly again Gaussian NBC \n",
    "model =GaussianNB()\n",
    "model.fit(Xtrain, ytrain)\n",
    "y_model = model.predict(Xtest)\n",
    "\n",
    "ac=accuracy_score(ytest, y_model)\n",
    "print(\"decorr accuracy_score:\",ac)\n",
    "from sklearn.metrics import confusion_matrix\n",
    "\n",
    "mat = confusion_matrix(ytest, y_model)\n",
    "plt.figure(5)\n",
    "sns.heatmap(mat, square=True, annot=True, cbar=False)\n",
    "\n",
    "plt.xlabel('predicted value')\n",
    "plt.ylabel('true value');\n",
    "interactive(False)\n",
    "plt.show()"
   ]
  },
  {
   "cell_type": "code",
   "execution_count": null,
   "metadata": {},
   "outputs": [],
   "source": []
  }
 ],
 "metadata": {
  "kernelspec": {
   "display_name": "Python 3",
   "language": "python",
   "name": "python3"
  },
  "language_info": {
   "codemirror_mode": {
    "name": "ipython",
    "version": 3
   },
   "file_extension": ".py",
   "mimetype": "text/x-python",
   "name": "python",
   "nbconvert_exporter": "python",
   "pygments_lexer": "ipython3",
   "version": "3.7.1"
  }
 },
 "nbformat": 4,
 "nbformat_minor": 4
}
